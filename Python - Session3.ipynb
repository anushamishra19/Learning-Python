{
 "cells": [
  {
   "cell_type": "markdown",
   "metadata": {},
   "source": [
    "<h1>String Formatting</h1>"
   ]
  },
  {
   "cell_type": "code",
   "execution_count": 3,
   "metadata": {},
   "outputs": [
    {
     "name": "stdout",
     "output_type": "stream",
     "text": [
      "Kashish I don't like python\n"
     ]
    }
   ],
   "source": [
    "name = \"Kashish\"\n",
    "course = \"I don't like python\"\n",
    "print(name,course)"
   ]
  },
  {
   "cell_type": "code",
   "execution_count": 6,
   "metadata": {},
   "outputs": [
    {
     "name": "stdout",
     "output_type": "stream",
     "text": [
      "I don't like python\n"
     ]
    }
   ],
   "source": [
    "course = 'I don\\'t like python'\n",
    "print(course)"
   ]
  },
  {
   "cell_type": "code",
   "execution_count": 20,
   "metadata": {},
   "outputs": [
    {
     "name": "stdout",
     "output_type": "stream",
     "text": [
      "Kashish 26\n"
     ]
    }
   ],
   "source": [
    "name = \"Kashish\"\n",
    "age = 26\n",
    "salary = 100000230.4066666\n",
    "print(name, age)"
   ]
  },
  {
   "cell_type": "code",
   "execution_count": 22,
   "metadata": {},
   "outputs": [
    {
     "name": "stdout",
     "output_type": "stream",
     "text": [
      "My age is 26 and my name is Kashish\n",
      "My salary is  100000230.407\n"
     ]
    }
   ],
   "source": [
    "print(f\"My age is {age} and my name is {name}\")\n",
    "print(f\"My salary is {salary: 6.3f}\")"
   ]
  },
  {
   "cell_type": "code",
   "execution_count": 23,
   "metadata": {},
   "outputs": [
    {
     "name": "stdout",
     "output_type": "stream",
     "text": [
      "my name is name and age is age\n"
     ]
    }
   ],
   "source": [
    "print(\"my name is {name} and age is {age}\".format(name = \"name\", age = \"age\"))"
   ]
  },
  {
   "cell_type": "markdown",
   "metadata": {},
   "source": [
    "<h1>Numbers</h1>"
   ]
  },
  {
   "cell_type": "code",
   "execution_count": null,
   "metadata": {},
   "outputs": [],
   "source": [
    "+ - * / // %"
   ]
  },
  {
   "cell_type": "code",
   "execution_count": 25,
   "metadata": {},
   "outputs": [
    {
     "name": "stdout",
     "output_type": "stream",
     "text": [
      "33\n",
      "13\n",
      "230\n",
      "2.3\n",
      "2\n",
      "3\n"
     ]
    }
   ],
   "source": [
    "a=23\n",
    "b=10\n",
    "print(a+b)\n",
    "print(a-b)\n",
    "print(a*b)\n",
    "print(a/b)\n",
    "print(a//b)\n",
    "print(a%b)"
   ]
  },
  {
   "cell_type": "markdown",
   "metadata": {},
   "source": [
    "<h1>Ifelse conditions</h1>"
   ]
  },
  {
   "cell_type": "code",
   "execution_count": 29,
   "metadata": {},
   "outputs": [
    {
     "name": "stdout",
     "output_type": "stream",
     "text": [
      "You are doing good\n"
     ]
    }
   ],
   "source": [
    "salary=1000\n",
    "if salary == 1000:\n",
    "    print(\"You are doing good\")"
   ]
  },
  {
   "cell_type": "code",
   "execution_count": null,
   "metadata": {},
   "outputs": [],
   "source": [
    "single = is used to assign a value to a variable\n",
    "double == is to check the condition that is passed"
   ]
  },
  {
   "cell_type": "code",
   "execution_count": 32,
   "metadata": {},
   "outputs": [
    {
     "name": "stdout",
     "output_type": "stream",
     "text": [
      "you are great\n"
     ]
    }
   ],
   "source": [
    "salary=1100\n",
    "if salary == 1000:\n",
    "    print(\"You are doing good\")\n",
    "elif salary < 1000:\n",
    "    print(\"You have to work hard\")\n",
    "else:\n",
    "    print(\"you are great\")"
   ]
  },
  {
   "cell_type": "code",
   "execution_count": 35,
   "metadata": {},
   "outputs": [
    {
     "name": "stdout",
     "output_type": "stream",
     "text": [
      "You have to work hard\n"
     ]
    }
   ],
   "source": [
    "salary=900\n",
    "if salary == 1000:\n",
    "    print(\"You are doing good\")\n",
    "elif salary < 1000:\n",
    "    print(\"You have to work hard\")\n",
    "elif salary > 1000:\n",
    "    print(\"you are great\")"
   ]
  },
  {
   "cell_type": "code",
   "execution_count": 37,
   "metadata": {},
   "outputs": [
    {
     "name": "stdout",
     "output_type": "stream",
     "text": [
      "Your designation is Sr. Manager\n"
     ]
    }
   ],
   "source": [
    "salary=900\n",
    "if salary == 1000:\n",
    "    designation = \"Manager\"\n",
    "elif salary < 1000:\n",
    "    designation = \"Executive\"\n",
    "elif salary > 1000:\n",
    "    designation = \"Sr. Manager\"\n",
    "\n",
    "print(f\"Your designation is {designation}\")"
   ]
  },
  {
   "cell_type": "code",
   "execution_count": 41,
   "metadata": {},
   "outputs": [
    {
     "name": "stdout",
     "output_type": "stream",
     "text": [
      "Please enter your salary to see your designation1000\n",
      "Your designation is Manager\n"
     ]
    }
   ],
   "source": [
    "salary = int(input(\"Please enter your salary to see your designation\"))\n",
    "\n",
    "if salary == 1000:\n",
    "    designation = \"Manager\"\n",
    "elif salary < 1000:\n",
    "    designation = \"Executive\"\n",
    "elif salary > 1000:\n",
    "    designation = \"Sr. Manager\"\n",
    "\n",
    "print(f\"Your designation is {designation}\")"
   ]
  },
  {
   "cell_type": "code",
   "execution_count": 42,
   "metadata": {},
   "outputs": [
    {
     "name": "stdout",
     "output_type": "stream",
     "text": [
      "Please enter your salary to see your designation700\n",
      "Your designation is Executive and your annual CTC is 8400\n"
     ]
    }
   ],
   "source": [
    "salary = int(input(\"Please enter your salary to see your designation\"))\n",
    "\n",
    "if salary == 1000:\n",
    "    designation = \"Manager\"\n",
    "    annual_ctc = salary * 12\n",
    "elif salary < 1000:\n",
    "    designation = \"Executive\"\n",
    "    annual_ctc = salary * 12\n",
    "\n",
    "print(f\"Your designation is {designation} and your annual CTC is {annual_ctc}\")"
   ]
  },
  {
   "cell_type": "code",
   "execution_count": 46,
   "metadata": {},
   "outputs": [
    {
     "name": "stdout",
     "output_type": "stream",
     "text": [
      "Enter your number3\n",
      "You failed as magic_number is bigger\n"
     ]
    }
   ],
   "source": [
    "magic_number = 7\n",
    "num = int(input(\"Enter your number\"))\n",
    "\n",
    "if magic_number == num:\n",
    "    print(\"YOU WIN\")\n",
    "elif magic_number > num:\n",
    "    print(\"You failed as magic_number is bigger\")\n",
    "else:\n",
    "    print(\"You failed as magic_number is smaller\")"
   ]
  },
  {
   "cell_type": "code",
   "execution_count": 52,
   "metadata": {},
   "outputs": [
    {
     "name": "stdout",
     "output_type": "stream",
     "text": [
      "Enter your name, salary and cityKashish,12000,Noida\n",
      "Your salary is good: 12000 and your city is listed on our directory: Noida\n"
     ]
    }
   ],
   "source": [
    "name, salary, city = input(\"Enter your name, salary and city\").split(\",\")\n",
    "if int(salary) > 10000 and city in (\"Delhi\",\"Noida\",\"Hyderabad\"):\n",
    "    print(f\"Your salary is good: {salary} and your city is listed on our directory: {city}\")\n",
    "    new_salary = int(salary) * 12\n",
    "else:\n",
    "    print(\"Please try again\")"
   ]
  },
  {
   "cell_type": "code",
   "execution_count": 53,
   "metadata": {},
   "outputs": [
    {
     "data": {
      "text/plain": [
       "144000"
      ]
     },
     "execution_count": 53,
     "metadata": {},
     "output_type": "execute_result"
    }
   ],
   "source": [
    "new_salary"
   ]
  },
  {
   "cell_type": "markdown",
   "metadata": {},
   "source": [
    "<h1>Operators</h1>"
   ]
  },
  {
   "cell_type": "code",
   "execution_count": null,
   "metadata": {},
   "outputs": [],
   "source": [
    "Arithmetic Operators:\n",
    "+\n",
    "-\n",
    "*\n",
    "/\n",
    "//\n",
    "%\n",
    "**"
   ]
  },
  {
   "cell_type": "code",
   "execution_count": null,
   "metadata": {},
   "outputs": [],
   "source": [
    "Logical Operators:\n",
    "not\n",
    "and\n",
    "or"
   ]
  },
  {
   "cell_type": "code",
   "execution_count": null,
   "metadata": {},
   "outputs": [],
   "source": [
    "comparison operators:\n",
    "==\n",
    "!=\n",
    "<\n",
    ">\n",
    "<=\n",
    ">="
   ]
  },
  {
   "cell_type": "code",
   "execution_count": null,
   "metadata": {},
   "outputs": [],
   "source": [
    "Identity Operators:\n",
    "is\n",
    "is not"
   ]
  },
  {
   "cell_type": "code",
   "execution_count": null,
   "metadata": {},
   "outputs": [],
   "source": [
    "Membership Operators:\n",
    "in\n",
    "not in"
   ]
  },
  {
   "cell_type": "code",
   "execution_count": null,
   "metadata": {},
   "outputs": [],
   "source": [
    "Bitwise Operators:\n",
    "<<\n",
    ">>\n",
    "&\n",
    "!\n",
    "^"
   ]
  },
  {
   "cell_type": "code",
   "execution_count": 61,
   "metadata": {},
   "outputs": [
    {
     "name": "stdout",
     "output_type": "stream",
     "text": [
      "KashishKashishKashishKashishKashish\n"
     ]
    }
   ],
   "source": [
    "a=\"Kashish\"\n",
    "b=10\n",
    "print(a*5)"
   ]
  },
  {
   "cell_type": "code",
   "execution_count": null,
   "metadata": {},
   "outputs": [],
   "source": []
  }
 ],
 "metadata": {
  "kernelspec": {
   "display_name": "Python 3",
   "language": "python",
   "name": "python3"
  },
  "language_info": {
   "codemirror_mode": {
    "name": "ipython",
    "version": 3
   },
   "file_extension": ".py",
   "mimetype": "text/x-python",
   "name": "python",
   "nbconvert_exporter": "python",
   "pygments_lexer": "ipython3",
   "version": "3.7.3"
  }
 },
 "nbformat": 4,
 "nbformat_minor": 2
}
