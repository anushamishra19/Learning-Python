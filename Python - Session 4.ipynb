{
 "cells": [
  {
   "cell_type": "code",
   "execution_count": 3,
   "metadata": {},
   "outputs": [
    {
     "name": "stdout",
     "output_type": "stream",
     "text": [
      "Enter your number10\n",
      "You are awesome!\n"
     ]
    }
   ],
   "source": [
    "number = 10\n",
    "\n",
    "user_inp = int(input(\"Enter your number\"))\n",
    "if user_inp == number:\n",
    "    print(\"You are awesome!\")\n",
    "elif user_inp < number:\n",
    "    print(\"You are not doing that good\")\n",
    "else:\n",
    "    print(\"You need improvement\")"
   ]
  },
  {
   "cell_type": "code",
   "execution_count": 6,
   "metadata": {},
   "outputs": [
    {
     "name": "stdout",
     "output_type": "stream",
     "text": [
      "Enter your age and State10*delhi\n",
      "Welcome!\n"
     ]
    }
   ],
   "source": [
    "age = 10\n",
    "state = \"delhi\"\n",
    "\n",
    "user_age, user_state = input(\"Enter your age and State\").split(\"*\")\n",
    "\n",
    "if int(user_inp) == age and state == user_state:\n",
    "    print(\"Welcome!\")\n",
    "else:\n",
    "    print(\"You are not eligible\")"
   ]
  },
  {
   "cell_type": "code",
   "execution_count": 7,
   "metadata": {},
   "outputs": [
    {
     "name": "stdout",
     "output_type": "stream",
     "text": [
      "Enter your age and State10*chandigarh\n",
      "Welcome!\n"
     ]
    }
   ],
   "source": [
    "age = 10\n",
    "state = \"delhi\"\n",
    "\n",
    "user_age, user_state = input(\"Enter your age and State\").split(\"*\")\n",
    "\n",
    "if int(user_inp) == age or state == user_state:\n",
    "    print(\"Welcome!\")\n",
    "else:\n",
    "    print(\"You are not eligible\")"
   ]
  },
  {
   "cell_type": "code",
   "execution_count": null,
   "metadata": {},
   "outputs": [],
   "source": [
    "AND = all the conditions should be fulfilled\n",
    "OR = Any one of the conditions should be fulfilled"
   ]
  },
  {
   "cell_type": "code",
   "execution_count": 23,
   "metadata": {},
   "outputs": [
    {
     "name": "stdout",
     "output_type": "stream",
     "text": [
      "Enter your age20\n",
      "You can participate in the competition\n"
     ]
    }
   ],
   "source": [
    "age = 20\n",
    "user_age = int(input(\"Enter your age\"))\n",
    "\n",
    "if int(user_age) == age:\n",
    "    print(\"You can participate in the competition\")\n",
    "elif int(user_age) - age in range(0,5):\n",
    "    print(\"You are older and cannot participate\")\n",
    "elif int(user_age) - age in range(-5,0):\n",
    "    print(\"You are younger and cannot participate\")\n",
    "else:\n",
    "    print(\"You are not at all eligible..Go HOME!\")"
   ]
  },
  {
   "cell_type": "code",
   "execution_count": 24,
   "metadata": {},
   "outputs": [
    {
     "name": "stdout",
     "output_type": "stream",
     "text": [
      "0\n",
      "1\n",
      "2\n",
      "3\n",
      "4\n"
     ]
    }
   ],
   "source": [
    "for i in range(0,5):\n",
    "    print(i)"
   ]
  },
  {
   "cell_type": "code",
   "execution_count": 26,
   "metadata": {},
   "outputs": [
    {
     "data": {
      "text/plain": [
       "100"
      ]
     },
     "execution_count": 26,
     "metadata": {},
     "output_type": "execute_result"
    }
   ],
   "source": [
    "a=10\n",
    "a*a"
   ]
  },
  {
   "cell_type": "code",
   "execution_count": 28,
   "metadata": {},
   "outputs": [
    {
     "name": "stdout",
     "output_type": "stream",
     "text": [
      "0\n",
      "2\n",
      "4\n",
      "6\n",
      "8\n",
      "10\n",
      "12\n",
      "14\n",
      "16\n",
      "18\n"
     ]
    }
   ],
   "source": [
    "for i in range(0,10):\n",
    "    print(i+i)"
   ]
  },
  {
   "cell_type": "code",
   "execution_count": 35,
   "metadata": {},
   "outputs": [
    {
     "name": "stdout",
     "output_type": "stream",
     "text": [
      "0\n",
      "3\n",
      "6\n",
      "9\n"
     ]
    }
   ],
   "source": [
    "for i in range(0,10,3):\n",
    "    print(i)"
   ]
  },
  {
   "cell_type": "code",
   "execution_count": 36,
   "metadata": {},
   "outputs": [
    {
     "name": "stdout",
     "output_type": "stream",
     "text": [
      "10\n",
      "30\n",
      "40\n",
      "7\n",
      "8\n",
      "11\n",
      "15\n"
     ]
    }
   ],
   "source": [
    "l = [10,30,40,7,8,11,15]\n",
    "for i in l:\n",
    "    print(i)"
   ]
  },
  {
   "cell_type": "code",
   "execution_count": 38,
   "metadata": {},
   "outputs": [
    {
     "data": {
      "text/plain": [
       "[30, 40, 7]"
      ]
     },
     "execution_count": 38,
     "metadata": {},
     "output_type": "execute_result"
    }
   ],
   "source": [
    "l[1:4]"
   ]
  },
  {
   "cell_type": "code",
   "execution_count": 39,
   "metadata": {},
   "outputs": [
    {
     "name": "stdout",
     "output_type": "stream",
     "text": [
      "30\n",
      "40\n",
      "7\n"
     ]
    }
   ],
   "source": [
    "l = [10,30,40,7,8,11,15]\n",
    "for i in l[1:4]:\n",
    "    print(i)"
   ]
  },
  {
   "cell_type": "markdown",
   "metadata": {},
   "source": [
    "<h1>Advanced Loops Concepts</h1>"
   ]
  },
  {
   "cell_type": "code",
   "execution_count": 45,
   "metadata": {},
   "outputs": [
    {
     "name": "stdout",
     "output_type": "stream",
     "text": [
      "Name is Kashish and length of your name is 7\n",
      "Name is Ankit and length of your name is 5\n",
      "Name is Mansi and length of your name is 5\n",
      "Name is Deepak and length of your name is 6\n",
      "Name is Pankaj and length of your name is 6\n"
     ]
    }
   ],
   "source": [
    "friends = ['Kashish','Ankit','Mansi','Deepak','Pankaj']\n",
    "\n",
    "for i in friends:\n",
    "    #print(i,len(i))\n",
    "    print(f\"Name is {i} and length of your name is {len(i)}\")"
   ]
  },
  {
   "cell_type": "code",
   "execution_count": 48,
   "metadata": {},
   "outputs": [
    {
     "name": "stdout",
     "output_type": "stream",
     "text": [
      "Total number of friends are: 5\n"
     ]
    }
   ],
   "source": [
    "friends = ['Kashish','Ankit','Mansi','Deepak','Pankaj']\n",
    "\n",
    "count=0\n",
    "for i in friends:\n",
    "    count=count+1\n",
    "print(f\"Total number of friends are: {count}\")"
   ]
  },
  {
   "cell_type": "code",
   "execution_count": 53,
   "metadata": {},
   "outputs": [
    {
     "ename": "IndentationError",
     "evalue": "expected an indented block (<ipython-input-53-f5a262fe7a2d>, line 2)",
     "output_type": "error",
     "traceback": [
      "\u001b[1;36m  File \u001b[1;32m\"<ipython-input-53-f5a262fe7a2d>\"\u001b[1;36m, line \u001b[1;32m2\u001b[0m\n\u001b[1;33m    print(i)\u001b[0m\n\u001b[1;37m        ^\u001b[0m\n\u001b[1;31mIndentationError\u001b[0m\u001b[1;31m:\u001b[0m expected an indented block\n"
     ]
    }
   ],
   "source": [
    "for i in range(0,10):\n",
    "print(i)"
   ]
  },
  {
   "cell_type": "code",
   "execution_count": 56,
   "metadata": {},
   "outputs": [
    {
     "name": "stdout",
     "output_type": "stream",
     "text": [
      "1: Number is odd\n",
      "2: Number is even \n",
      "3: Number is odd\n",
      "4: Number is even \n",
      "5: Number is odd\n",
      "6: Number is even \n",
      "7: Number is odd\n",
      "8: Number is even \n",
      "9: Number is odd\n",
      "10: Number is even \n"
     ]
    }
   ],
   "source": [
    "#check if the number is odd or even\n",
    "for i in range(1,11):\n",
    "    if i%2 == 0:\n",
    "        print(f\"{i}: Number is even \")\n",
    "    else:\n",
    "        print(f\"{i}: Number is odd\")"
   ]
  },
  {
   "cell_type": "code",
   "execution_count": 61,
   "metadata": {},
   "outputs": [
    {
     "name": "stdout",
     "output_type": "stream",
     "text": [
      "The principal in year 10 is 196715.13572895652\n"
     ]
    }
   ],
   "source": [
    "p = 100000\n",
    "interest = 0.07\n",
    "\n",
    "for i in range(1,11):\n",
    "    p = p+p*interest\n",
    "print(f\"The principal in year {i} is {p}\")"
   ]
  },
  {
   "cell_type": "code",
   "execution_count": 68,
   "metadata": {},
   "outputs": [
    {
     "name": "stdout",
     "output_type": "stream",
     "text": [
      "At year 1, your interest rate is 0.07 and principal is 107000.0\n",
      "At year 2, your interest rate is 0.07 and principal is 114490.0\n",
      "At year 3, your interest rate is 0.07 and principal is 122504.3\n",
      "At year 4, your interest rate is 0.07 and principal is 131079.601\n",
      "At year 5, your interest rate is 0.07 and principal is 140255.17307\n",
      "At year 6, your interest rate is 0.09 and principal is 152878.13864629998\n",
      "At year 7, your interest rate is 0.09 and principal is 166637.171124467\n",
      "At year 8, your interest rate is 0.09 and principal is 181634.51652566902\n",
      "At year 9, your interest rate is 0.1 and principal is 199797.96817823593\n",
      "At year 10, your interest rate is 0.1 and principal is 219777.76499605953\n",
      "At year 11, your interest rate is 0.1 and principal is 241755.5414956655\n",
      "At year 12, your interest rate is 0.1 and principal is 265931.09564523207\n",
      "At year 13, your interest rate is 0.1 and principal is 292524.2052097553\n",
      "At year 14, your interest rate is 0.1 and principal is 321776.6257307308\n"
     ]
    }
   ],
   "source": [
    "p=100000\n",
    "interest1 = 0.07\n",
    "interest2 = 0.09\n",
    "interest3 = 0.1\n",
    "\n",
    "for i in range(1,15):\n",
    "    if i in range(1,6):\n",
    "        p=p+p*interest1\n",
    "        print(f\"At year {i}, your interest rate is {interest1} and principal is {p}\")\n",
    "    elif i in range(6,9):\n",
    "        p=p+p*interest2\n",
    "        print(f\"At year {i}, your interest rate is {interest2} and principal is {p}\")\n",
    "    else:\n",
    "        p+=p*interest3\n",
    "        print(f\"At year {i}, your interest rate is {interest3} and principal is {p}\")"
   ]
  },
  {
   "cell_type": "code",
   "execution_count": 67,
   "metadata": {},
   "outputs": [
    {
     "name": "stdout",
     "output_type": "stream",
     "text": [
      "Enter any stringDeepak\n",
      "3 3\n"
     ]
    }
   ],
   "source": [
    "string = input(\"Enter any string\")\n",
    "vowels = ['a','e','i','o','u']\n",
    "\n",
    "count = 0\n",
    "count1 = 0\n",
    "for i in string:\n",
    "    if i in vowels:\n",
    "        count+=1\n",
    "        #count = count + 1\n",
    "    if i not in vowels:\n",
    "        count1 = count1 + 1\n",
    "print(count, count1)"
   ]
  },
  {
   "cell_type": "code",
   "execution_count": 70,
   "metadata": {},
   "outputs": [
    {
     "data": {
      "text/plain": [
       "[10, 20, 'a', 19, 'b']"
      ]
     },
     "execution_count": 70,
     "metadata": {},
     "output_type": "execute_result"
    }
   ],
   "source": [
    "l = [10,20,'a',19,'b']\n",
    "l"
   ]
  },
  {
   "cell_type": "code",
   "execution_count": 75,
   "metadata": {},
   "outputs": [
    {
     "name": "stdout",
     "output_type": "stream",
     "text": [
      "Strings are 2 and Numbers are 3\n"
     ]
    }
   ],
   "source": [
    "l = [10,20,'a',19,'b']\n",
    "count_int = 0\n",
    "count_str = 0\n",
    "for i in l:\n",
    "    if type(i) == int:\n",
    "        count_int += 1\n",
    "    elif type(i) == str:\n",
    "        count_str += 1\n",
    "print(f\"Strings are {count_str} and Numbers are {count_int}\")"
   ]
  },
  {
   "cell_type": "code",
   "execution_count": 73,
   "metadata": {},
   "outputs": [
    {
     "data": {
      "text/plain": [
       "str"
      ]
     },
     "execution_count": 73,
     "metadata": {},
     "output_type": "execute_result"
    }
   ],
   "source": [
    "a='a'\n",
    "type(a)"
   ]
  },
  {
   "cell_type": "markdown",
   "metadata": {},
   "source": [
    "<h1>Break Statement</h1>"
   ]
  },
  {
   "cell_type": "code",
   "execution_count": 79,
   "metadata": {},
   "outputs": [
    {
     "name": "stdout",
     "output_type": "stream",
     "text": [
      "The letter is R\n",
      "The letter is a\n",
      "The letter is n\n"
     ]
    }
   ],
   "source": [
    "name = \"Random\"\n",
    "\n",
    "for i in name:\n",
    "    if i == \"d\":\n",
    "        break\n",
    "    print(f\"The letter is {i}\")"
   ]
  },
  {
   "cell_type": "code",
   "execution_count": 80,
   "metadata": {},
   "outputs": [
    {
     "name": "stdout",
     "output_type": "stream",
     "text": [
      "0\n",
      "1\n",
      "2\n",
      "3\n",
      "4\n",
      "5\n",
      "6\n",
      "7 is the lucky number\n"
     ]
    }
   ],
   "source": [
    "lucky_number = 7\n",
    "for i in range(11):\n",
    "    if i is lucky_number:\n",
    "        print(f\"{i} is the lucky number\")\n",
    "        break\n",
    "    else:\n",
    "        print(i)"
   ]
  },
  {
   "cell_type": "code",
   "execution_count": 84,
   "metadata": {},
   "outputs": [
    {
     "name": "stdout",
     "output_type": "stream",
     "text": [
      "1 107000.0\n",
      "2 114490.0\n",
      "3 122504.3\n",
      "4 131079.601\n",
      "5 140255.17307\n",
      "6 150073.03518489999\n",
      "7 160578.147647843\n",
      "8 171818.617983192\n",
      "9 183845.92124201544\n",
      "10 196715.13572895652\n",
      "11 210485.19522998348\n",
      "12 225219.1588960823\n",
      "13 240984.5000188081\n",
      "14 257853.41502012467\n",
      "15 275903.1540715334\n",
      "16 295216.37485654076\n",
      "17 315881.5210964986\n"
     ]
    }
   ],
   "source": [
    "#in how many years the amount of 100000 will be doubled\n",
    "p = 100000\n",
    "yr = 0\n",
    "for i in range(100000, 200001):\n",
    "    p+=p*0.07\n",
    "    yr+=1\n",
    "    print(yr,p)\n",
    "    if p>=300000:\n",
    "        break"
   ]
  },
  {
   "cell_type": "markdown",
   "metadata": {},
   "source": [
    "<h1>Continue Statement</h1>"
   ]
  },
  {
   "cell_type": "code",
   "execution_count": 94,
   "metadata": {},
   "outputs": [
    {
     "name": "stdout",
     "output_type": "stream",
     "text": [
      "12\n",
      "10\n"
     ]
    }
   ],
   "source": [
    "for i in range(1,11):\n",
    "    continue\n",
    "    print(i)\n",
    "a=12\n",
    "print(a)\n",
    "print(i)"
   ]
  },
  {
   "cell_type": "code",
   "execution_count": 95,
   "metadata": {},
   "outputs": [
    {
     "name": "stdout",
     "output_type": "stream",
     "text": [
      "1: Number is available\n",
      "2: Number is already taken\n",
      "3: Number is available\n",
      "4: Number is already taken\n",
      "5: Number is available\n",
      "6: Number is available\n",
      "7: Number is already taken\n",
      "8: Number is available\n",
      "9: Number is already taken\n",
      "10: Number is available\n",
      "11: Number is already taken\n",
      "12: Number is available\n",
      "13: Number is available\n",
      "14: Number is available\n",
      "15: Number is available\n"
     ]
    }
   ],
   "source": [
    "jersey = [2,7,11,9,4]\n",
    "\n",
    "for i in range(1,16):\n",
    "    if i in jersey:\n",
    "        print(f\"{i}: Number is already taken\")\n",
    "    else:\n",
    "        print(f\"{i}: Number is available\")"
   ]
  },
  {
   "cell_type": "code",
   "execution_count": 96,
   "metadata": {},
   "outputs": [
    {
     "name": "stdout",
     "output_type": "stream",
     "text": [
      "1: number is available\n",
      "3: number is available\n",
      "5: number is available\n",
      "6: number is available\n",
      "8: number is available\n",
      "10: number is available\n",
      "12: number is available\n",
      "13: number is available\n",
      "14: number is available\n",
      "15: number is available\n"
     ]
    }
   ],
   "source": [
    "jersey = [2,7,11,9,4]\n",
    "\n",
    "for i in range(1,16):\n",
    "    if i in jersey:\n",
    "        continue\n",
    "    print(f\"{i}: number is available\")"
   ]
  },
  {
   "cell_type": "markdown",
   "metadata": {},
   "source": [
    "<h1>pass statement</h1>"
   ]
  },
  {
   "cell_type": "code",
   "execution_count": null,
   "metadata": {},
   "outputs": [],
   "source": [
    "#\n",
    "'''sdkhshdksdn'''"
   ]
  },
  {
   "cell_type": "code",
   "execution_count": 98,
   "metadata": {},
   "outputs": [
    {
     "name": "stdout",
     "output_type": "stream",
     "text": [
      "Correct Age\n"
     ]
    }
   ],
   "source": [
    "age = 10\n",
    "if age > 7:\n",
    "    pass\n",
    "print(\"Correct Age\")"
   ]
  },
  {
   "cell_type": "code",
   "execution_count": 100,
   "metadata": {},
   "outputs": [
    {
     "name": "stdout",
     "output_type": "stream",
     "text": [
      "9\n"
     ]
    }
   ],
   "source": [
    "for i in range(1,10):\n",
    "    pass\n",
    "    \n",
    "print(i)"
   ]
  },
  {
   "cell_type": "code",
   "execution_count": null,
   "metadata": {},
   "outputs": [],
   "source": []
  }
 ],
 "metadata": {
  "kernelspec": {
   "display_name": "Python 3",
   "language": "python",
   "name": "python3"
  },
  "language_info": {
   "codemirror_mode": {
    "name": "ipython",
    "version": 3
   },
   "file_extension": ".py",
   "mimetype": "text/x-python",
   "name": "python",
   "nbconvert_exporter": "python",
   "pygments_lexer": "ipython3",
   "version": "3.7.3"
  }
 },
 "nbformat": 4,
 "nbformat_minor": 2
}
